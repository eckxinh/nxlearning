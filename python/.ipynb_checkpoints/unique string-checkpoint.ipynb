{
 "cells": [
  {
   "cell_type": "code",
   "execution_count": 20,
   "metadata": {},
   "outputs": [
    {
     "name": "stdout",
     "output_type": "stream",
     "text": [
      "Please enter your string : gozhgor\n",
      "Your string is not unique\n"
     ]
    }
   ],
   "source": [
    "string = input(\"Please enter your string : \")\n",
    "\n",
    "def unique(string) :\n",
    "    for i in range(len(string)):\n",
    "        if string.count(string[i]) > 1 :\n",
    "            return False\n",
    "    return True\n",
    "\n",
    "if unique(string) == False :\n",
    "    print(\"Your string is not unique\")\n",
    "else :\n",
    "    print(\"Your string is unique\")\n",
    "    \n"
   ]
  },
  {
   "cell_type": "code",
   "execution_count": 25,
   "metadata": {},
   "outputs": [
    {
     "name": "stdout",
     "output_type": "stream",
     "text": [
      "Please enter your string : voeun igh ab\n",
      "Your string is not unique\n"
     ]
    }
   ],
   "source": [
    "string2 = input(\"Please enter your string : \")\n",
    "\n",
    "def unique2(string) :\n",
    "    seen = []\n",
    "    for i in range(len(string)) :\n",
    "        if string[i] in seen :\n",
    "            return False\n",
    "        else :\n",
    "            seen.append(string[i])\n",
    "    return True\n",
    " \n",
    "if unique2(string2) == False :\n",
    "    print(\"Your string is not unique\")\n",
    "else :\n",
    "    print(\"Your string is unique\")"
   ]
  },
  {
   "cell_type": "code",
   "execution_count": null,
   "metadata": {},
   "outputs": [],
   "source": []
  }
 ],
 "metadata": {
  "kernelspec": {
   "display_name": "Python 3",
   "language": "python",
   "name": "python3"
  },
  "language_info": {
   "codemirror_mode": {
    "name": "ipython",
    "version": 3
   },
   "file_extension": ".py",
   "mimetype": "text/x-python",
   "name": "python",
   "nbconvert_exporter": "python",
   "pygments_lexer": "ipython3",
   "version": "3.6.5"
  }
 },
 "nbformat": 4,
 "nbformat_minor": 2
}
